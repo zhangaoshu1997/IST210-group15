{
 "cells": [
  {
   "cell_type": "markdown",
   "metadata": {},
   "source": [
    "# Idea 1"
   ]
  },
  {
   "cell_type": "markdown",
   "metadata": {},
   "source": [
    "In 2013 Humanlo was born. Humanlo is a company that produces and sells Humanlo industrial organizational software. The company is inspired by Oracle, but has a modern end-user interface and is compatible with many modern-day business structures. This software company needs a database to store employee information about their sales team for the use of HR professionals. Create 4 tables (include name, current salary, benefits, years at company) and a 5th table to measure their monthly sales. This will be a valuable tool in managing and analyzing how experience, salary and benefits are related to employee productivity. This database can be used to predict future raises, form practical commission caps, and ensure cost effective benefit plans. A typical day for a sales person at Humanlo would include accounts meetings followed by customer calls, and active communication with current clients on their product satisfaction. The employee may be asked to travel from the host Philadelphia office to Washington DC or New York City to meet with clients and make sales pitches. The base salary for a salesperson at this company is 70,000 and a 2% raise is given every year of continued employment. A salesperson can currently earn a commission of up to 5,000 each year. The management has recently received complaints that the commission cap is too low and can be discouraging to sales people to keep doing their jobs after their sales cap is met. Setting up this data base will allow Humanlo human resource professionals to make smarter decisions about how to properly compensate its salespeople, while remaining an economically sustainable business. My goal is to identify which salespeople are selling the most software so Humanlo and how that correlates with employee data such as salary, benefits, and years of employment. \n",
    "\n",
    "The 5 tables needed are:\n",
    "1.\tEmployee Name\n",
    "2.\tCurrent Salary\n",
    "3.\tDollar Value of Benefits \n",
    "4.\tnumber of Years Employed at Humanlo \n",
    "5.\tDollar value of sales this month \n",
    "\n",
    "My end user data gives insight into how the 4 factors above can be used as predictors of a salesperson’s monthly performance. "
   ]
  },
  {
   "cell_type": "markdown",
   "metadata": {},
   "source": [
    "<img src=\"1.jpg\">"
   ]
  },
  {
   "cell_type": "markdown",
   "metadata": {},
   "source": [
    "# Idea 2"
   ]
  },
  {
   "cell_type": "markdown",
   "metadata": {},
   "source": [
    "Movie Theatre:\n",
    "\n",
    "Project Goal: Determining the most significant sources of revenue for the theatre\n",
    "\n",
    "Table 1: Tickets and costs: which movies are available for viewing and how much money is required to see them\n",
    "\n",
    "Table 2: Refreshments and costs: details what food and drink are purchasable and for how much\n",
    "\n",
    "Table 3: Customer Purchases: all customers displayed and what they have bought for what price\n",
    "\n",
    "Table 4: Screening Rooms: Number of available seats for each theatre, when the maximum capacity is reached, the movie is sold out and not able to be viewed at that time\n",
    "\n",
    "Table 5: Arcade Games: lists the different games available for playing, their cost and how many times they have been played \n",
    "\n",
    "How Tables Address Goal: Table 1, Table 2 and Table 5 all display costs of purchasable items in the theatre, while Table 3 documents each customer and what they have purchased allowing us to calculate how much money they have spent. \n",
    "\n",
    "This idea involves a typical movie theatre and aims to determine their primary sources of revenue from the main components of how they make money, the actual movies, grossly overpriced refreshments and a small arcade consisting of racing games and rigged claw machines. A typical business interaction would involve a family walking through the doors of the theatre and looking at the various movies for watching and making a decision on which to see. They would next wait in line to buy the actual tickets but while the parents wait they give their kids money to go play games in the small arcade on the side. The kids then head over to the arcade, one shoots hoops and manages to get a score of 36, another enjoys the racing game set up and the last kid comes dangerously close at snagging a stuffed animal from the claw machine. By the time they’re out of money their parents have just bought the tickets and they all head over to buy some snacks for them as they watch The Lion King. They decide to share 2 large popcorns and 3 medium sodas. After that they go to the ticket checker who then directs them towards the correct room number for their movie. They head towards the specified room and spend a few minutes watching previews before their actual movie starts. When it does they silence their cellphones as instructed and enjoy watching on the bigscreen while eating their refreshments together as a family. \n",
    "\n",
    "Attributes and their entities:\n",
    "-Screening Room (movie displayed, price of movie, amount of seats filled, maxiumum seat capacity)/ restriction: seats filled cannot exceed seat capacity\n",
    "-Refreshment Counter (popcorn, soda, candy)\n",
    "-Arcade (racing game, basketball, claw machine)\n"
   ]
  },
  {
   "cell_type": "markdown",
   "metadata": {},
   "source": [
    "<img src=\"2.png\">"
   ]
  },
  {
   "cell_type": "markdown",
   "metadata": {},
   "source": [
    "# Idea 3"
   ]
  },
  {
   "cell_type": "markdown",
   "metadata": {},
   "source": [
    "The National Basketball Association (NBA) is one of the four major professional sports leagues in the United States and Canada, and is widely considered to be the premier men's professional basketball league in the world. As a basketball fan, I often hear people talk about a player’s performance. When they talk about a good 3-pt shooter, they usually focus on this player’s field goal percentage (FG%). But FG% is not always an accurate indicator to decide which player is better due to their different positions and playstyles. So, an advanced database is needed to store players Stats and help the coach to judge their performance. The 4 tables of the database include player’s name and position, total points scored, FG%, shots that are lightly contested or heavily contested. What’s more, there will be an end-user table that collect the player’s efficiency. By the way, the efficiency is calculated by total points scored minus (2,3)*shots that are lightly contested (points a player is supposed to get). By using this database, it is more reliable to reflect a player’s performance than only looks at FG%. The higher the player’s efficiency is, the better he performs. A typical day for a coach or an analyst who using this database will be collect the stats of all players in the team. After the match, the coach and the analyst will give feedbacks to the players and see whether a player performs good or needs improvement. And after the whole season, a completed report from the database will be sent to the coach. The ultimate goal is to figure out which player has the best performance and which player has weaknesses. It can guide the coach to arrange effective trainings to improve the team performance. \n",
    "\n",
    "Table 1: player’s name and position\n",
    "\n",
    "Table 2: total points scored\n",
    "\n",
    "Table 3: FG%\n",
    "\n",
    "Table 4: shots that are lightly contested or heavily contested\n",
    "\n",
    "Table 5: efficiency\n"
   ]
  },
  {
   "cell_type": "markdown",
   "metadata": {},
   "source": [
    "<img src=\"flowchart.png\">"
   ]
  },
  {
   "cell_type": "code",
   "execution_count": null,
   "metadata": {},
   "outputs": [],
   "source": []
  }
 ],
 "metadata": {
  "kernelspec": {
   "display_name": "Python 3",
   "language": "python",
   "name": "python3"
  },
  "language_info": {
   "codemirror_mode": {
    "name": "ipython",
    "version": 3
   },
   "file_extension": ".py",
   "mimetype": "text/x-python",
   "name": "python",
   "nbconvert_exporter": "python",
   "pygments_lexer": "ipython3",
   "version": "3.7.3"
  }
 },
 "nbformat": 4,
 "nbformat_minor": 2
}
