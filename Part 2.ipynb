{
 "cells": [
  {
   "cell_type": "markdown",
   "metadata": {},
   "source": [
    "The National Basketball Association (NBA) is one of the four major professional sports leagues in the United States and Canada, and is widely considered to be the premier men's professional basketball league in the world. In the league, there are a lot of great players who perform well at the 3-pt line and the 2-pt area. As a basketball fan, I often hear people talk about a player’s performance. When they talk about a good 3-pt shooter, they usually focus on this player’s field goal percentage (FG%). For example, Stephen Curry had a 37.7% 3-pt FG% last season which is a very high FG%. It is undeniable that FG% is a useful data to reflect a player’s performance. But under some situations, FG% is not that accurate to decide who is the better 3-pt shooter. For instance, James Harden and Andre Iguodala, a former MVP winner and a bench player. Both of them had 35 FG% at the 3-pt line last season. But when people are asked who is the better 3-pt shooter, 90% of them will pick Harden. Because most of Harden’s 3-pt attempts were heavily contested by the defenders while most of Iguodala’s attempts were lightly contested or wide open. In this case, we can’t just simply say that Harden is as good as Iguodala at the 3-pt line because of their same FG%. And same thing happens when we compare two players’ 2-pt FG%. So, an advanced database is needed to store players Stats and help the coach to judge their performance. The 4 tables of the database include player’s name and position, total points scored, FG%, shots that are lightly contested or heavily contested. What’s more, there will be an end-user table that collect the player’s efficiency. By the way, the efficiency is calculated by total points scored minus (2 or 3)*shots that are lightly contested (points a player is supposed to get). By using this database, it is more reliable to reflect a player’s performance than only looks at FG%. The higher the player’s efficiency is, the better he performs. A typical day for a coach or an analyst who using this database will be collect the stats of all players in the team. After the match, the coach and the analyst will give feedbacks to the players and see whether a player performs good or needs improvement. And after the whole season, a completed report from the database will be sent to the coach. The ultimate goal is to figure out which player has the best performance and which player has weaknesses. It can guide the coach to arrange effective trainings to improve the team performance. And a real-life database report for players 3-pt performance may look like the following:\n",
    "\n",
    "J: SG\t 600\t44%\t120\t330\t+240\n",
    "P: SF\t 264\t44%\t120\t80\t-96\n",
    "\n",
    "In this case, Player J and player P both have 44% FG% this season. But when the coach looks at the details, he finds Player J’s efficiency is much higher than player P. So he realizes that Player J is more capable to score when facing heavy defense than player P. And when he compares player P’s stats with last season, he finds player P has lower efficiency this year. So he decides to have a talk with P and make a specific plan to help P to improve. \n",
    "\n",
    "\n",
    "\n",
    "When we analyzing the database report, there are a lot of attributes need to be considered. Start from players and positions, there are 5 different positions in basketball and each of them has unique roles. When we analyzing a guard player, we should focus more on his 3-pt performance. And when we analyzing a power forward or a center, we should pay more attention on his 2-pt ability. For a small forward, we need to consider both. Then, point scored is the indicator of a player’s ability to score, players with higher points are usually the alpha dog or the starters of the team. What’s more, the number of lightly contested shots can reflect a player’s ability to create chance. The higher the number is, the more likely he knows how to get rid of the defenders. And as we mentioned, the ultimate goal of this database is the efficiency, a player with higher efficiency is more likely to be a star or a qualified starter. Last but not least, even field goal percentage is not the only stat to evaluate a player, it is still very important. When we link the field goal percentage to other attributes, we can get a lot of useful information. For instance, a player with lower FG% and more lightly contested shots needs more practice. A player with lower FG% and more heavily contested shots needs to think about whether he plays reasonable or not. A player with higher FG% and more contested shots is usually a super star or the alpha dog of his team. \n"
   ]
  },
  {
   "cell_type": "markdown",
   "metadata": {},
   "source": [
    "<img src=\"flowchart.png\">"
   ]
  },
  {
   "cell_type": "code",
   "execution_count": null,
   "metadata": {},
   "outputs": [],
   "source": []
  }
 ],
 "metadata": {
  "kernelspec": {
   "display_name": "Python 3",
   "language": "python",
   "name": "python3"
  },
  "language_info": {
   "codemirror_mode": {
    "name": "ipython",
    "version": 3
   },
   "file_extension": ".py",
   "mimetype": "text/x-python",
   "name": "python",
   "nbconvert_exporter": "python",
   "pygments_lexer": "ipython3",
   "version": "3.7.3"
  }
 },
 "nbformat": 4,
 "nbformat_minor": 2
}
